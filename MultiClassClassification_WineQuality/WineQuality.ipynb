{
 "cells": [
  {
   "cell_type": "code",
   "execution_count": 1,
   "metadata": {},
   "outputs": [],
   "source": [
    " # Import red wine data from UCI Machine Learning Repository\n",
    "\n",
    "import pandas as pd\n",
    "\n",
    "winedata=pd.read_csv(\"C:\\\\Users\\\\gunja\\\\OneDrive\\\\Desktop\\\\Estimate wine quality\\\\winequality-red.csv\")"
   ]
  },
  {
   "cell_type": "code",
   "execution_count": 2,
   "metadata": {},
   "outputs": [
    {
     "data": {
      "text/html": [
       "<div>\n",
       "<style scoped>\n",
       "    .dataframe tbody tr th:only-of-type {\n",
       "        vertical-align: middle;\n",
       "    }\n",
       "\n",
       "    .dataframe tbody tr th {\n",
       "        vertical-align: top;\n",
       "    }\n",
       "\n",
       "    .dataframe thead th {\n",
       "        text-align: right;\n",
       "    }\n",
       "</style>\n",
       "<table border=\"1\" class=\"dataframe\">\n",
       "  <thead>\n",
       "    <tr style=\"text-align: right;\">\n",
       "      <th></th>\n",
       "      <th>fixed acidity</th>\n",
       "      <th>volatile acidity</th>\n",
       "      <th>citric acid</th>\n",
       "      <th>residual sugar</th>\n",
       "      <th>chlorides</th>\n",
       "      <th>free sulfur dioxide</th>\n",
       "      <th>total sulfur dioxide</th>\n",
       "      <th>density</th>\n",
       "      <th>pH</th>\n",
       "      <th>sulphates</th>\n",
       "      <th>alcohol</th>\n",
       "      <th>quality</th>\n",
       "    </tr>\n",
       "  </thead>\n",
       "  <tbody>\n",
       "    <tr>\n",
       "      <td>0</td>\n",
       "      <td>7.4</td>\n",
       "      <td>0.70</td>\n",
       "      <td>0.00</td>\n",
       "      <td>1.9</td>\n",
       "      <td>0.076</td>\n",
       "      <td>11.0</td>\n",
       "      <td>34.0</td>\n",
       "      <td>0.9978</td>\n",
       "      <td>3.51</td>\n",
       "      <td>0.56</td>\n",
       "      <td>9.4</td>\n",
       "      <td>5</td>\n",
       "    </tr>\n",
       "    <tr>\n",
       "      <td>1</td>\n",
       "      <td>7.8</td>\n",
       "      <td>0.88</td>\n",
       "      <td>0.00</td>\n",
       "      <td>2.6</td>\n",
       "      <td>0.098</td>\n",
       "      <td>25.0</td>\n",
       "      <td>67.0</td>\n",
       "      <td>0.9968</td>\n",
       "      <td>3.20</td>\n",
       "      <td>0.68</td>\n",
       "      <td>9.8</td>\n",
       "      <td>5</td>\n",
       "    </tr>\n",
       "    <tr>\n",
       "      <td>2</td>\n",
       "      <td>7.8</td>\n",
       "      <td>0.76</td>\n",
       "      <td>0.04</td>\n",
       "      <td>2.3</td>\n",
       "      <td>0.092</td>\n",
       "      <td>15.0</td>\n",
       "      <td>54.0</td>\n",
       "      <td>0.9970</td>\n",
       "      <td>3.26</td>\n",
       "      <td>0.65</td>\n",
       "      <td>9.8</td>\n",
       "      <td>5</td>\n",
       "    </tr>\n",
       "    <tr>\n",
       "      <td>3</td>\n",
       "      <td>11.2</td>\n",
       "      <td>0.28</td>\n",
       "      <td>0.56</td>\n",
       "      <td>1.9</td>\n",
       "      <td>0.075</td>\n",
       "      <td>17.0</td>\n",
       "      <td>60.0</td>\n",
       "      <td>0.9980</td>\n",
       "      <td>3.16</td>\n",
       "      <td>0.58</td>\n",
       "      <td>9.8</td>\n",
       "      <td>6</td>\n",
       "    </tr>\n",
       "    <tr>\n",
       "      <td>4</td>\n",
       "      <td>7.4</td>\n",
       "      <td>0.70</td>\n",
       "      <td>0.00</td>\n",
       "      <td>1.9</td>\n",
       "      <td>0.076</td>\n",
       "      <td>11.0</td>\n",
       "      <td>34.0</td>\n",
       "      <td>0.9978</td>\n",
       "      <td>3.51</td>\n",
       "      <td>0.56</td>\n",
       "      <td>9.4</td>\n",
       "      <td>5</td>\n",
       "    </tr>\n",
       "  </tbody>\n",
       "</table>\n",
       "</div>"
      ],
      "text/plain": [
       "   fixed acidity  volatile acidity  citric acid  residual sugar  chlorides  \\\n",
       "0            7.4              0.70         0.00             1.9      0.076   \n",
       "1            7.8              0.88         0.00             2.6      0.098   \n",
       "2            7.8              0.76         0.04             2.3      0.092   \n",
       "3           11.2              0.28         0.56             1.9      0.075   \n",
       "4            7.4              0.70         0.00             1.9      0.076   \n",
       "\n",
       "   free sulfur dioxide  total sulfur dioxide  density    pH  sulphates  \\\n",
       "0                 11.0                  34.0   0.9978  3.51       0.56   \n",
       "1                 25.0                  67.0   0.9968  3.20       0.68   \n",
       "2                 15.0                  54.0   0.9970  3.26       0.65   \n",
       "3                 17.0                  60.0   0.9980  3.16       0.58   \n",
       "4                 11.0                  34.0   0.9978  3.51       0.56   \n",
       "\n",
       "   alcohol  quality  \n",
       "0      9.4        5  \n",
       "1      9.8        5  \n",
       "2      9.8        5  \n",
       "3      9.8        6  \n",
       "4      9.4        5  "
      ]
     },
     "execution_count": 2,
     "metadata": {},
     "output_type": "execute_result"
    }
   ],
   "source": [
    " # lets explore the data\n",
    "winedata.head()\n",
    "\n",
    " #We have to predict the quality of the wine.We have here the wine attributes which will help us predict the same"
   ]
  },
  {
   "cell_type": "code",
   "execution_count": 3,
   "metadata": {},
   "outputs": [
    {
     "name": "stdout",
     "output_type": "stream",
     "text": [
      "<class 'pandas.core.frame.DataFrame'>\n",
      "RangeIndex: 1599 entries, 0 to 1598\n",
      "Data columns (total 12 columns):\n",
      "fixed acidity           1599 non-null float64\n",
      "volatile acidity        1599 non-null float64\n",
      "citric acid             1599 non-null float64\n",
      "residual sugar          1599 non-null float64\n",
      "chlorides               1599 non-null float64\n",
      "free sulfur dioxide     1599 non-null float64\n",
      "total sulfur dioxide    1599 non-null float64\n",
      "density                 1599 non-null float64\n",
      "pH                      1599 non-null float64\n",
      "sulphates               1599 non-null float64\n",
      "alcohol                 1599 non-null float64\n",
      "quality                 1599 non-null int64\n",
      "dtypes: float64(11), int64(1)\n",
      "memory usage: 150.0 KB\n"
     ]
    }
   ],
   "source": [
    " #Lets check the missing values if any\n",
    "winedata.info()\n",
    "  # Wow!!! no missing values.Wish life had been this simple!!\n",
    "    \n",
    "    "
   ]
  },
  {
   "cell_type": "code",
   "execution_count": 4,
   "metadata": {},
   "outputs": [
    {
     "data": {
      "text/html": [
       "<div>\n",
       "<style scoped>\n",
       "    .dataframe tbody tr th:only-of-type {\n",
       "        vertical-align: middle;\n",
       "    }\n",
       "\n",
       "    .dataframe tbody tr th {\n",
       "        vertical-align: top;\n",
       "    }\n",
       "\n",
       "    .dataframe thead th {\n",
       "        text-align: right;\n",
       "    }\n",
       "</style>\n",
       "<table border=\"1\" class=\"dataframe\">\n",
       "  <thead>\n",
       "    <tr style=\"text-align: right;\">\n",
       "      <th></th>\n",
       "      <th>fixed acidity</th>\n",
       "      <th>volatile acidity</th>\n",
       "      <th>citric acid</th>\n",
       "      <th>residual sugar</th>\n",
       "      <th>chlorides</th>\n",
       "      <th>free sulfur dioxide</th>\n",
       "      <th>total sulfur dioxide</th>\n",
       "      <th>density</th>\n",
       "      <th>pH</th>\n",
       "      <th>sulphates</th>\n",
       "      <th>alcohol</th>\n",
       "      <th>quality</th>\n",
       "    </tr>\n",
       "  </thead>\n",
       "  <tbody>\n",
       "    <tr>\n",
       "      <td>count</td>\n",
       "      <td>1599.000000</td>\n",
       "      <td>1599.000000</td>\n",
       "      <td>1599.000000</td>\n",
       "      <td>1599.000000</td>\n",
       "      <td>1599.000000</td>\n",
       "      <td>1599.000000</td>\n",
       "      <td>1599.000000</td>\n",
       "      <td>1599.000000</td>\n",
       "      <td>1599.000000</td>\n",
       "      <td>1599.000000</td>\n",
       "      <td>1599.000000</td>\n",
       "      <td>1599.000000</td>\n",
       "    </tr>\n",
       "    <tr>\n",
       "      <td>mean</td>\n",
       "      <td>8.319637</td>\n",
       "      <td>0.527821</td>\n",
       "      <td>0.270976</td>\n",
       "      <td>2.538806</td>\n",
       "      <td>0.087467</td>\n",
       "      <td>15.874922</td>\n",
       "      <td>46.467792</td>\n",
       "      <td>0.996747</td>\n",
       "      <td>3.311113</td>\n",
       "      <td>0.658149</td>\n",
       "      <td>10.422983</td>\n",
       "      <td>5.636023</td>\n",
       "    </tr>\n",
       "    <tr>\n",
       "      <td>std</td>\n",
       "      <td>1.741096</td>\n",
       "      <td>0.179060</td>\n",
       "      <td>0.194801</td>\n",
       "      <td>1.409928</td>\n",
       "      <td>0.047065</td>\n",
       "      <td>10.460157</td>\n",
       "      <td>32.895324</td>\n",
       "      <td>0.001887</td>\n",
       "      <td>0.154386</td>\n",
       "      <td>0.169507</td>\n",
       "      <td>1.065668</td>\n",
       "      <td>0.807569</td>\n",
       "    </tr>\n",
       "    <tr>\n",
       "      <td>min</td>\n",
       "      <td>4.600000</td>\n",
       "      <td>0.120000</td>\n",
       "      <td>0.000000</td>\n",
       "      <td>0.900000</td>\n",
       "      <td>0.012000</td>\n",
       "      <td>1.000000</td>\n",
       "      <td>6.000000</td>\n",
       "      <td>0.990070</td>\n",
       "      <td>2.740000</td>\n",
       "      <td>0.330000</td>\n",
       "      <td>8.400000</td>\n",
       "      <td>3.000000</td>\n",
       "    </tr>\n",
       "    <tr>\n",
       "      <td>25%</td>\n",
       "      <td>7.100000</td>\n",
       "      <td>0.390000</td>\n",
       "      <td>0.090000</td>\n",
       "      <td>1.900000</td>\n",
       "      <td>0.070000</td>\n",
       "      <td>7.000000</td>\n",
       "      <td>22.000000</td>\n",
       "      <td>0.995600</td>\n",
       "      <td>3.210000</td>\n",
       "      <td>0.550000</td>\n",
       "      <td>9.500000</td>\n",
       "      <td>5.000000</td>\n",
       "    </tr>\n",
       "    <tr>\n",
       "      <td>50%</td>\n",
       "      <td>7.900000</td>\n",
       "      <td>0.520000</td>\n",
       "      <td>0.260000</td>\n",
       "      <td>2.200000</td>\n",
       "      <td>0.079000</td>\n",
       "      <td>14.000000</td>\n",
       "      <td>38.000000</td>\n",
       "      <td>0.996750</td>\n",
       "      <td>3.310000</td>\n",
       "      <td>0.620000</td>\n",
       "      <td>10.200000</td>\n",
       "      <td>6.000000</td>\n",
       "    </tr>\n",
       "    <tr>\n",
       "      <td>75%</td>\n",
       "      <td>9.200000</td>\n",
       "      <td>0.640000</td>\n",
       "      <td>0.420000</td>\n",
       "      <td>2.600000</td>\n",
       "      <td>0.090000</td>\n",
       "      <td>21.000000</td>\n",
       "      <td>62.000000</td>\n",
       "      <td>0.997835</td>\n",
       "      <td>3.400000</td>\n",
       "      <td>0.730000</td>\n",
       "      <td>11.100000</td>\n",
       "      <td>6.000000</td>\n",
       "    </tr>\n",
       "    <tr>\n",
       "      <td>max</td>\n",
       "      <td>15.900000</td>\n",
       "      <td>1.580000</td>\n",
       "      <td>1.000000</td>\n",
       "      <td>15.500000</td>\n",
       "      <td>0.611000</td>\n",
       "      <td>72.000000</td>\n",
       "      <td>289.000000</td>\n",
       "      <td>1.003690</td>\n",
       "      <td>4.010000</td>\n",
       "      <td>2.000000</td>\n",
       "      <td>14.900000</td>\n",
       "      <td>8.000000</td>\n",
       "    </tr>\n",
       "  </tbody>\n",
       "</table>\n",
       "</div>"
      ],
      "text/plain": [
       "       fixed acidity  volatile acidity  citric acid  residual sugar  \\\n",
       "count    1599.000000       1599.000000  1599.000000     1599.000000   \n",
       "mean        8.319637          0.527821     0.270976        2.538806   \n",
       "std         1.741096          0.179060     0.194801        1.409928   \n",
       "min         4.600000          0.120000     0.000000        0.900000   \n",
       "25%         7.100000          0.390000     0.090000        1.900000   \n",
       "50%         7.900000          0.520000     0.260000        2.200000   \n",
       "75%         9.200000          0.640000     0.420000        2.600000   \n",
       "max        15.900000          1.580000     1.000000       15.500000   \n",
       "\n",
       "         chlorides  free sulfur dioxide  total sulfur dioxide      density  \\\n",
       "count  1599.000000          1599.000000           1599.000000  1599.000000   \n",
       "mean      0.087467            15.874922             46.467792     0.996747   \n",
       "std       0.047065            10.460157             32.895324     0.001887   \n",
       "min       0.012000             1.000000              6.000000     0.990070   \n",
       "25%       0.070000             7.000000             22.000000     0.995600   \n",
       "50%       0.079000            14.000000             38.000000     0.996750   \n",
       "75%       0.090000            21.000000             62.000000     0.997835   \n",
       "max       0.611000            72.000000            289.000000     1.003690   \n",
       "\n",
       "                pH    sulphates      alcohol      quality  \n",
       "count  1599.000000  1599.000000  1599.000000  1599.000000  \n",
       "mean      3.311113     0.658149    10.422983     5.636023  \n",
       "std       0.154386     0.169507     1.065668     0.807569  \n",
       "min       2.740000     0.330000     8.400000     3.000000  \n",
       "25%       3.210000     0.550000     9.500000     5.000000  \n",
       "50%       3.310000     0.620000    10.200000     6.000000  \n",
       "75%       3.400000     0.730000    11.100000     6.000000  \n",
       "max       4.010000     2.000000    14.900000     8.000000  "
      ]
     },
     "execution_count": 4,
     "metadata": {},
     "output_type": "execute_result"
    }
   ],
   "source": [
    "#Lets check some basis stats of the data\n",
    "\n",
    "winedata.describe()"
   ]
  },
  {
   "cell_type": "code",
   "execution_count": 42,
   "metadata": {},
   "outputs": [
    {
     "data": {
      "text/plain": [
       "<matplotlib.axes._subplots.AxesSubplot at 0x1a99c90b608>"
      ]
     },
     "execution_count": 42,
     "metadata": {},
     "output_type": "execute_result"
    },
    {
     "data": {
      "image/png": "[encoded data removed]",
      "text/plain": [
       "<Figure size 1296x720 with 12 Axes>"
      ]
     },
     "metadata": {
      "needs_background": "light"
     },
     "output_type": "display_data"
    }
   ],
   "source": [
    "# Lets explore the distribution of the predictor variables though no assumption is made about the distribution of the independent \n",
    "#variables in a logistic regression\n",
    "\n",
    "import matplotlib.pyplot as plt\n",
    "import seaborn as sns\n",
    "\n",
    "fig,axes=plt.subplots(3,4,figsize=(18,10))\n",
    "\n",
    "sns.kdeplot(winedata['fixed acidity'],color='b',shade=True,label='fixed acidity',ax=axes[0,0])\n",
    "sns.kdeplot(winedata['volatile acidity'],color='b',shade=True,label='volatile acidity',ax=axes[0,1])\n",
    "sns.kdeplot(winedata['citric acid'],color='b',shade=True,label='citic acid',ax=axes[0,2])\n",
    "sns.kdeplot(winedata['residual sugar'],color='b',shade=True,label='residual sugar',ax=axes[0,3])\n",
    "sns.kdeplot(winedata['chlorides'],color='b',shade=True,label='chlorides',ax=axes[1,0])\n",
    "sns.kdeplot(winedata['free sulfur dioxide'],color='b',shade=True,label='free sulfur dioxide',ax=axes[1,1])\n",
    "sns.kdeplot(winedata['total sulfur dioxide'],color='b',shade=True,label='total sulfur dioxide',ax=axes[1,2])\n",
    "sns.kdeplot(winedata['density'],color='b',shade=True,label='density',ax=axes[1,3])\n",
    "sns.kdeplot(winedata['pH'],color='b',shade=True,label='pH',ax=axes[2,0])\n",
    "sns.kdeplot(winedata['sulphates'],color='b',shade=True,label='sulphates',ax=axes[2,1])\n",
    "sns.kdeplot(winedata['alcohol'],color='b',shade=True,label='alcohol',ax=axes[2,2])\n"
   ]
  },
  {
   "cell_type": "code",
   "execution_count": 6,
   "metadata": {},
   "outputs": [],
   "source": [
    "###Many features like --chlorides and total sulphur dioxide are heavy tailed"
   ]
  },
  {
   "cell_type": "code",
   "execution_count": 7,
   "metadata": {},
   "outputs": [
    {
     "data": {
      "text/plain": [
       "<matplotlib.axes._subplots.AxesSubplot at 0x1a99b5c77c8>"
      ]
     },
     "execution_count": 7,
     "metadata": {},
     "output_type": "execute_result"
    },
    {
     "data": {
      "image/png": "[encoded data removed]",
      "text/plain": [
       "<Figure size 432x288 with 1 Axes>"
      ]
     },
     "metadata": {
      "needs_background": "light"
     },
     "output_type": "display_data"
    }
   ],
   "source": [
    "#It seems there are some outliers in thedata--Total sulphur dioxide column(when we describe the data),75% of the data is below 62 and the mean is 46 but the max\n",
    "#value is 289.This looks like an outlier.Lets check this visually\n",
    "\n",
    "import seaborn as sns\n",
    "\n",
    "sns.boxplot(winedata['total sulfur dioxide'])"
   ]
  },
  {
   "cell_type": "code",
   "execution_count": 8,
   "metadata": {},
   "outputs": [
    {
     "data": {
      "text/plain": [
       "(1451, 12)"
      ]
     },
     "execution_count": 8,
     "metadata": {},
     "output_type": "execute_result"
    }
   ],
   "source": [
    "##We see the actual maximum value or the 100 percentile value is around 170.So 289 is definitely an outlier.\n",
    "#It is very important to remove outliers from the data or else it would negatively effect the performance of the machine learning \n",
    "#algorithm.I would use z-score to identify and remove outliers.obs far from the mean are considered as outliers.Industry practise is \n",
    "#threshold,z-score >3 or z-score<3\n",
    "\n",
    "import numpy as np\n",
    "import scipy.stats as stats\n",
    "\n",
    "z = np.abs(stats.zscore(winedata))\n",
    "winedata = winedata[(z < 3).all(axis=1)]\n",
    "winedata.shape\n",
    "\n",
    "\n"
   ]
  },
  {
   "cell_type": "code",
   "execution_count": 9,
   "metadata": {},
   "outputs": [],
   "source": [
    "#Around 150 rows have been eliminated"
   ]
  },
  {
   "cell_type": "code",
   "execution_count": 10,
   "metadata": {},
   "outputs": [],
   "source": [
    " #Observations\n",
    "   #All the attributes are floats\n",
    "    #The target variable is int but it is categorical ranging from 3 to 5.Higher the value better the quality of the wine."
   ]
  },
  {
   "cell_type": "code",
   "execution_count": 11,
   "metadata": {},
   "outputs": [
    {
     "data": {
      "text/plain": [
       "<matplotlib.axes._subplots.AxesSubplot at 0x1a99b651308>"
      ]
     },
     "execution_count": 11,
     "metadata": {},
     "output_type": "execute_result"
    },
    {
     "data": {
      "image/png": "[encoded data removed]",
      "text/plain": [
       "<Figure size 432x288 with 1 Axes>"
      ]
     },
     "metadata": {
      "needs_background": "light"
     },
     "output_type": "display_data"
    }
   ],
   "source": [
    "# Lets see the distribution of the target variable\n",
    "\n",
    "import seaborn as sns\n",
    "\n",
    "sns.distplot(winedata['quality'])\n"
   ]
  },
  {
   "cell_type": "code",
   "execution_count": 12,
   "metadata": {},
   "outputs": [
    {
     "data": {
      "text/plain": [
       "(array([ 47.,   0., 617.,   0.,   0., 586.,   0., 185.,   0.,  16.]),\n",
       " array([4. , 4.4, 4.8, 5.2, 5.6, 6. , 6.4, 6.8, 7.2, 7.6, 8. ]),\n",
       " <a list of 10 Patch objects>)"
      ]
     },
     "execution_count": 12,
     "metadata": {},
     "output_type": "execute_result"
    },
    {
     "data": {
      "image/png": "[encoded data removed]",
      "text/plain": [
       "<Figure size 432x288 with 1 Axes>"
      ]
     },
     "metadata": {
      "needs_background": "light"
     },
     "output_type": "display_data"
    }
   ],
   "source": [
    " #A histogram will look better on such categorical data\n",
    "    \n",
    "import matplotlib.pyplot as plt\n",
    "%matplotlib inline\n",
    " \n",
    "plt.hist(winedata['quality']) \n",
    "\n",
    "# There are 6 classes and the distribution is very imbalanced.We will deal with this while splitting the data into train and test \n",
    "# split.\n"
   ]
  },
  {
   "cell_type": "code",
   "execution_count": 13,
   "metadata": {},
   "outputs": [],
   "source": [
    "#Maximum wines have qualities ranges between 5-6.Very few are as bad as 3 or as good as 8"
   ]
  },
  {
   "cell_type": "code",
   "execution_count": 14,
   "metadata": {},
   "outputs": [
    {
     "data": {
      "text/plain": [
       "5    617\n",
       "6    586\n",
       "7    185\n",
       "4     47\n",
       "8     16\n",
       "Name: quality, dtype: int64"
      ]
     },
     "execution_count": 14,
     "metadata": {},
     "output_type": "execute_result"
    }
   ],
   "source": [
    "\n",
    "\n",
    "# lets check the distribution of classes in the target variable\n",
    "\n",
    "winedata['quality'].value_counts()\n"
   ]
  },
  {
   "cell_type": "code",
   "execution_count": 15,
   "metadata": {},
   "outputs": [],
   "source": [
    "#The distribution of the classes in the quality varibale looks pretty imbalanced.We will use sklearn's famous\n",
    "# train_test_split function and pass the 'quality' variable in the stratify argument of this function.This will create a pretty balanced\n",
    "# train test split\n",
    "\n",
    "from sklearn.model_selection import train_test_split\n",
    "train,test=train_test_split(winedata,test_size=0.25,random_state=42,stratify=winedata['quality'])\n",
    " "
   ]
  },
  {
   "cell_type": "code",
   "execution_count": 16,
   "metadata": {},
   "outputs": [
    {
     "data": {
      "text/plain": [
       "(1088, 12)"
      ]
     },
     "execution_count": 16,
     "metadata": {},
     "output_type": "execute_result"
    }
   ],
   "source": [
    "train.shape"
   ]
  },
  {
   "cell_type": "code",
   "execution_count": 17,
   "metadata": {},
   "outputs": [
    {
     "data": {
      "text/plain": [
       "5    463\n",
       "6    439\n",
       "7    139\n",
       "4     35\n",
       "8     12\n",
       "Name: quality, dtype: int64"
      ]
     },
     "execution_count": 17,
     "metadata": {},
     "output_type": "execute_result"
    }
   ],
   "source": [
    "train['quality'].value_counts()"
   ]
  },
  {
   "cell_type": "code",
   "execution_count": 18,
   "metadata": {},
   "outputs": [
    {
     "data": {
      "text/plain": [
       "5    154\n",
       "6    147\n",
       "7     46\n",
       "4     12\n",
       "8      4\n",
       "Name: quality, dtype: int64"
      ]
     },
     "execution_count": 18,
     "metadata": {},
     "output_type": "execute_result"
    }
   ],
   "source": [
    "test['quality'].value_counts()"
   ]
  },
  {
   "cell_type": "code",
   "execution_count": 19,
   "metadata": {
    "scrolled": false
   },
   "outputs": [
    {
     "data": {
      "text/html": [
       "<div>\n",
       "<style scoped>\n",
       "    .dataframe tbody tr th:only-of-type {\n",
       "        vertical-align: middle;\n",
       "    }\n",
       "\n",
       "    .dataframe tbody tr th {\n",
       "        vertical-align: top;\n",
       "    }\n",
       "\n",
       "    .dataframe thead th {\n",
       "        text-align: right;\n",
       "    }\n",
       "</style>\n",
       "<table border=\"1\" class=\"dataframe\">\n",
       "  <thead>\n",
       "    <tr style=\"text-align: right;\">\n",
       "      <th></th>\n",
       "      <th>fixed acidity</th>\n",
       "      <th>volatile acidity</th>\n",
       "      <th>citric acid</th>\n",
       "      <th>residual sugar</th>\n",
       "      <th>chlorides</th>\n",
       "      <th>free sulfur dioxide</th>\n",
       "      <th>total sulfur dioxide</th>\n",
       "      <th>density</th>\n",
       "      <th>pH</th>\n",
       "      <th>sulphates</th>\n",
       "      <th>alcohol</th>\n",
       "      <th>quality</th>\n",
       "    </tr>\n",
       "  </thead>\n",
       "  <tbody>\n",
       "    <tr>\n",
       "      <td>fixed acidity</td>\n",
       "      <td>1.000000</td>\n",
       "      <td>-0.283296</td>\n",
       "      <td>0.689170</td>\n",
       "      <td>0.201356</td>\n",
       "      <td>0.176818</td>\n",
       "      <td>-0.139622</td>\n",
       "      <td>-0.097201</td>\n",
       "      <td>0.658574</td>\n",
       "      <td>-0.707988</td>\n",
       "      <td>0.189681</td>\n",
       "      <td>-0.016748</td>\n",
       "      <td>0.135449</td>\n",
       "    </tr>\n",
       "    <tr>\n",
       "      <td>volatile acidity</td>\n",
       "      <td>-0.283296</td>\n",
       "      <td>1.000000</td>\n",
       "      <td>-0.574614</td>\n",
       "      <td>0.007406</td>\n",
       "      <td>0.089696</td>\n",
       "      <td>-0.003263</td>\n",
       "      <td>0.101658</td>\n",
       "      <td>-0.015908</td>\n",
       "      <td>0.230333</td>\n",
       "      <td>-0.327856</td>\n",
       "      <td>-0.207128</td>\n",
       "      <td>-0.366323</td>\n",
       "    </tr>\n",
       "    <tr>\n",
       "      <td>citric acid</td>\n",
       "      <td>0.689170</td>\n",
       "      <td>-0.574614</td>\n",
       "      <td>1.000000</td>\n",
       "      <td>0.205376</td>\n",
       "      <td>0.094006</td>\n",
       "      <td>-0.063362</td>\n",
       "      <td>0.011233</td>\n",
       "      <td>0.367537</td>\n",
       "      <td>-0.511395</td>\n",
       "      <td>0.302046</td>\n",
       "      <td>0.176041</td>\n",
       "      <td>0.264437</td>\n",
       "    </tr>\n",
       "    <tr>\n",
       "      <td>residual sugar</td>\n",
       "      <td>0.201356</td>\n",
       "      <td>0.007406</td>\n",
       "      <td>0.205376</td>\n",
       "      <td>1.000000</td>\n",
       "      <td>0.152791</td>\n",
       "      <td>0.025401</td>\n",
       "      <td>0.125435</td>\n",
       "      <td>0.357633</td>\n",
       "      <td>-0.096453</td>\n",
       "      <td>0.082573</td>\n",
       "      <td>0.162656</td>\n",
       "      <td>0.041252</td>\n",
       "    </tr>\n",
       "    <tr>\n",
       "      <td>chlorides</td>\n",
       "      <td>0.176818</td>\n",
       "      <td>0.089696</td>\n",
       "      <td>0.094006</td>\n",
       "      <td>0.152791</td>\n",
       "      <td>1.000000</td>\n",
       "      <td>-0.083275</td>\n",
       "      <td>0.040374</td>\n",
       "      <td>0.314697</td>\n",
       "      <td>-0.187451</td>\n",
       "      <td>0.033528</td>\n",
       "      <td>-0.196187</td>\n",
       "      <td>-0.101990</td>\n",
       "    </tr>\n",
       "    <tr>\n",
       "      <td>free sulfur dioxide</td>\n",
       "      <td>-0.139622</td>\n",
       "      <td>-0.003263</td>\n",
       "      <td>-0.063362</td>\n",
       "      <td>0.025401</td>\n",
       "      <td>-0.083275</td>\n",
       "      <td>1.000000</td>\n",
       "      <td>0.652222</td>\n",
       "      <td>-0.026168</td>\n",
       "      <td>0.106548</td>\n",
       "      <td>0.071542</td>\n",
       "      <td>-0.058184</td>\n",
       "      <td>-0.054764</td>\n",
       "    </tr>\n",
       "    <tr>\n",
       "      <td>total sulfur dioxide</td>\n",
       "      <td>-0.097201</td>\n",
       "      <td>0.101658</td>\n",
       "      <td>0.011233</td>\n",
       "      <td>0.125435</td>\n",
       "      <td>0.040374</td>\n",
       "      <td>0.652222</td>\n",
       "      <td>1.000000</td>\n",
       "      <td>0.126922</td>\n",
       "      <td>-0.003579</td>\n",
       "      <td>-0.003143</td>\n",
       "      <td>-0.245118</td>\n",
       "      <td>-0.228114</td>\n",
       "    </tr>\n",
       "    <tr>\n",
       "      <td>density</td>\n",
       "      <td>0.658574</td>\n",
       "      <td>-0.015908</td>\n",
       "      <td>0.367537</td>\n",
       "      <td>0.357633</td>\n",
       "      <td>0.314697</td>\n",
       "      <td>-0.026168</td>\n",
       "      <td>0.126922</td>\n",
       "      <td>1.000000</td>\n",
       "      <td>-0.314720</td>\n",
       "      <td>0.137813</td>\n",
       "      <td>-0.467219</td>\n",
       "      <td>-0.161289</td>\n",
       "    </tr>\n",
       "    <tr>\n",
       "      <td>pH</td>\n",
       "      <td>-0.707988</td>\n",
       "      <td>0.230333</td>\n",
       "      <td>-0.511395</td>\n",
       "      <td>-0.096453</td>\n",
       "      <td>-0.187451</td>\n",
       "      <td>0.106548</td>\n",
       "      <td>-0.003579</td>\n",
       "      <td>-0.314720</td>\n",
       "      <td>1.000000</td>\n",
       "      <td>-0.034679</td>\n",
       "      <td>0.140138</td>\n",
       "      <td>-0.065744</td>\n",
       "    </tr>\n",
       "    <tr>\n",
       "      <td>sulphates</td>\n",
       "      <td>0.189681</td>\n",
       "      <td>-0.327856</td>\n",
       "      <td>0.302046</td>\n",
       "      <td>0.082573</td>\n",
       "      <td>0.033528</td>\n",
       "      <td>0.071542</td>\n",
       "      <td>-0.003143</td>\n",
       "      <td>0.137813</td>\n",
       "      <td>-0.034679</td>\n",
       "      <td>1.000000</td>\n",
       "      <td>0.226976</td>\n",
       "      <td>0.380876</td>\n",
       "    </tr>\n",
       "    <tr>\n",
       "      <td>alcohol</td>\n",
       "      <td>-0.016748</td>\n",
       "      <td>-0.207128</td>\n",
       "      <td>0.176041</td>\n",
       "      <td>0.162656</td>\n",
       "      <td>-0.196187</td>\n",
       "      <td>-0.058184</td>\n",
       "      <td>-0.245118</td>\n",
       "      <td>-0.467219</td>\n",
       "      <td>0.140138</td>\n",
       "      <td>0.226976</td>\n",
       "      <td>1.000000</td>\n",
       "      <td>0.493207</td>\n",
       "    </tr>\n",
       "    <tr>\n",
       "      <td>quality</td>\n",
       "      <td>0.135449</td>\n",
       "      <td>-0.366323</td>\n",
       "      <td>0.264437</td>\n",
       "      <td>0.041252</td>\n",
       "      <td>-0.101990</td>\n",
       "      <td>-0.054764</td>\n",
       "      <td>-0.228114</td>\n",
       "      <td>-0.161289</td>\n",
       "      <td>-0.065744</td>\n",
       "      <td>0.380876</td>\n",
       "      <td>0.493207</td>\n",
       "      <td>1.000000</td>\n",
       "    </tr>\n",
       "  </tbody>\n",
       "</table>\n",
       "</div>"
      ],
      "text/plain": [
       "                      fixed acidity  volatile acidity  citric acid  \\\n",
       "fixed acidity              1.000000         -0.283296     0.689170   \n",
       "volatile acidity          -0.283296          1.000000    -0.574614   \n",
       "citric acid                0.689170         -0.574614     1.000000   \n",
       "residual sugar             0.201356          0.007406     0.205376   \n",
       "chlorides                  0.176818          0.089696     0.094006   \n",
       "free sulfur dioxide       -0.139622         -0.003263    -0.063362   \n",
       "total sulfur dioxide      -0.097201          0.101658     0.011233   \n",
       "density                    0.658574         -0.015908     0.367537   \n",
       "pH                        -0.707988          0.230333    -0.511395   \n",
       "sulphates                  0.189681         -0.327856     0.302046   \n",
       "alcohol                   -0.016748         -0.207128     0.176041   \n",
       "quality                    0.135449         -0.366323     0.264437   \n",
       "\n",
       "                      residual sugar  chlorides  free sulfur dioxide  \\\n",
       "fixed acidity               0.201356   0.176818            -0.139622   \n",
       "volatile acidity            0.007406   0.089696            -0.003263   \n",
       "citric acid                 0.205376   0.094006            -0.063362   \n",
       "residual sugar              1.000000   0.152791             0.025401   \n",
       "chlorides                   0.152791   1.000000            -0.083275   \n",
       "free sulfur dioxide         0.025401  -0.083275             1.000000   \n",
       "total sulfur dioxide        0.125435   0.040374             0.652222   \n",
       "density                     0.357633   0.314697            -0.026168   \n",
       "pH                         -0.096453  -0.187451             0.106548   \n",
       "sulphates                   0.082573   0.033528             0.071542   \n",
       "alcohol                     0.162656  -0.196187            -0.058184   \n",
       "quality                     0.041252  -0.101990            -0.054764   \n",
       "\n",
       "                      total sulfur dioxide   density        pH  sulphates  \\\n",
       "fixed acidity                    -0.097201  0.658574 -0.707988   0.189681   \n",
       "volatile acidity                  0.101658 -0.015908  0.230333  -0.327856   \n",
       "citric acid                       0.011233  0.367537 -0.511395   0.302046   \n",
       "residual sugar                    0.125435  0.357633 -0.096453   0.082573   \n",
       "chlorides                         0.040374  0.314697 -0.187451   0.033528   \n",
       "free sulfur dioxide               0.652222 -0.026168  0.106548   0.071542   \n",
       "total sulfur dioxide              1.000000  0.126922 -0.003579  -0.003143   \n",
       "density                           0.126922  1.000000 -0.314720   0.137813   \n",
       "pH                               -0.003579 -0.314720  1.000000  -0.034679   \n",
       "sulphates                        -0.003143  0.137813 -0.034679   1.000000   \n",
       "alcohol                          -0.245118 -0.467219  0.140138   0.226976   \n",
       "quality                          -0.228114 -0.161289 -0.065744   0.380876   \n",
       "\n",
       "                       alcohol   quality  \n",
       "fixed acidity        -0.016748  0.135449  \n",
       "volatile acidity     -0.207128 -0.366323  \n",
       "citric acid           0.176041  0.264437  \n",
       "residual sugar        0.162656  0.041252  \n",
       "chlorides            -0.196187 -0.101990  \n",
       "free sulfur dioxide  -0.058184 -0.054764  \n",
       "total sulfur dioxide -0.245118 -0.228114  \n",
       "density              -0.467219 -0.161289  \n",
       "pH                    0.140138 -0.065744  \n",
       "sulphates             0.226976  0.380876  \n",
       "alcohol               1.000000  0.493207  \n",
       "quality               0.493207  1.000000  "
      ]
     },
     "execution_count": 19,
     "metadata": {},
     "output_type": "execute_result"
    }
   ],
   "source": [
    "# We will now check the correlation between the various features of the data\n",
    "\n",
    "corrmat=train.corr()\n",
    "\n",
    "corrmat"
   ]
  },
  {
   "cell_type": "code",
   "execution_count": 20,
   "metadata": {},
   "outputs": [
    {
     "data": {
      "image/png": "[encoded data removed]",
      "text/plain": [
       "<Figure size 1008x720 with 2 Axes>"
      ]
     },
     "metadata": {
      "needs_background": "light"
     },
     "output_type": "display_data"
    }
   ],
   "source": [
    "##Lets make the correlation matrix a bit visual,heatmap style\n",
    "\n",
    "plt.subplots(figsize=(14,10))\n",
    "\n",
    "sns.heatmap(corrmat,annot=True,cmap='coolwarm')\n",
    "\n",
    "plt.show()"
   ]
  },
  {
   "cell_type": "code",
   "execution_count": 21,
   "metadata": {},
   "outputs": [
    {
     "data": {
      "text/html": [
       "<div>\n",
       "<style scoped>\n",
       "    .dataframe tbody tr th:only-of-type {\n",
       "        vertical-align: middle;\n",
       "    }\n",
       "\n",
       "    .dataframe tbody tr th {\n",
       "        vertical-align: top;\n",
       "    }\n",
       "\n",
       "    .dataframe thead th {\n",
       "        text-align: right;\n",
       "    }\n",
       "</style>\n",
       "<table border=\"1\" class=\"dataframe\">\n",
       "  <thead>\n",
       "    <tr style=\"text-align: right;\">\n",
       "      <th></th>\n",
       "      <th>fixed acidity</th>\n",
       "      <th>volatile acidity</th>\n",
       "      <th>citric acid</th>\n",
       "      <th>chlorides</th>\n",
       "      <th>total sulfur dioxide</th>\n",
       "      <th>density</th>\n",
       "      <th>sulphates</th>\n",
       "      <th>alcohol</th>\n",
       "      <th>quality</th>\n",
       "    </tr>\n",
       "  </thead>\n",
       "  <tbody>\n",
       "    <tr>\n",
       "      <td>430</td>\n",
       "      <td>10.5</td>\n",
       "      <td>0.24</td>\n",
       "      <td>0.47</td>\n",
       "      <td>0.066</td>\n",
       "      <td>24.0</td>\n",
       "      <td>0.99780</td>\n",
       "      <td>0.90</td>\n",
       "      <td>11.0</td>\n",
       "      <td>7</td>\n",
       "    </tr>\n",
       "    <tr>\n",
       "      <td>90</td>\n",
       "      <td>7.9</td>\n",
       "      <td>0.52</td>\n",
       "      <td>0.26</td>\n",
       "      <td>0.079</td>\n",
       "      <td>140.0</td>\n",
       "      <td>0.99640</td>\n",
       "      <td>0.54</td>\n",
       "      <td>9.5</td>\n",
       "      <td>5</td>\n",
       "    </tr>\n",
       "    <tr>\n",
       "      <td>25</td>\n",
       "      <td>6.3</td>\n",
       "      <td>0.39</td>\n",
       "      <td>0.16</td>\n",
       "      <td>0.080</td>\n",
       "      <td>23.0</td>\n",
       "      <td>0.99550</td>\n",
       "      <td>0.56</td>\n",
       "      <td>9.3</td>\n",
       "      <td>5</td>\n",
       "    </tr>\n",
       "    <tr>\n",
       "      <td>752</td>\n",
       "      <td>7.6</td>\n",
       "      <td>0.54</td>\n",
       "      <td>0.13</td>\n",
       "      <td>0.097</td>\n",
       "      <td>66.0</td>\n",
       "      <td>0.99785</td>\n",
       "      <td>0.61</td>\n",
       "      <td>9.4</td>\n",
       "      <td>5</td>\n",
       "    </tr>\n",
       "    <tr>\n",
       "      <td>849</td>\n",
       "      <td>6.4</td>\n",
       "      <td>0.63</td>\n",
       "      <td>0.21</td>\n",
       "      <td>0.080</td>\n",
       "      <td>32.0</td>\n",
       "      <td>0.99689</td>\n",
       "      <td>0.66</td>\n",
       "      <td>9.8</td>\n",
       "      <td>5</td>\n",
       "    </tr>\n",
       "    <tr>\n",
       "      <td>...</td>\n",
       "      <td>...</td>\n",
       "      <td>...</td>\n",
       "      <td>...</td>\n",
       "      <td>...</td>\n",
       "      <td>...</td>\n",
       "      <td>...</td>\n",
       "      <td>...</td>\n",
       "      <td>...</td>\n",
       "      <td>...</td>\n",
       "    </tr>\n",
       "    <tr>\n",
       "      <td>694</td>\n",
       "      <td>9.0</td>\n",
       "      <td>0.47</td>\n",
       "      <td>0.31</td>\n",
       "      <td>0.084</td>\n",
       "      <td>125.0</td>\n",
       "      <td>0.99840</td>\n",
       "      <td>0.61</td>\n",
       "      <td>9.4</td>\n",
       "      <td>5</td>\n",
       "    </tr>\n",
       "    <tr>\n",
       "      <td>1311</td>\n",
       "      <td>6.5</td>\n",
       "      <td>0.51</td>\n",
       "      <td>0.15</td>\n",
       "      <td>0.064</td>\n",
       "      <td>27.0</td>\n",
       "      <td>0.99290</td>\n",
       "      <td>0.59</td>\n",
       "      <td>12.8</td>\n",
       "      <td>6</td>\n",
       "    </tr>\n",
       "    <tr>\n",
       "      <td>495</td>\n",
       "      <td>10.7</td>\n",
       "      <td>0.35</td>\n",
       "      <td>0.53</td>\n",
       "      <td>0.070</td>\n",
       "      <td>16.0</td>\n",
       "      <td>0.99720</td>\n",
       "      <td>0.65</td>\n",
       "      <td>11.0</td>\n",
       "      <td>8</td>\n",
       "    </tr>\n",
       "    <tr>\n",
       "      <td>740</td>\n",
       "      <td>8.3</td>\n",
       "      <td>0.76</td>\n",
       "      <td>0.29</td>\n",
       "      <td>0.075</td>\n",
       "      <td>16.0</td>\n",
       "      <td>0.99650</td>\n",
       "      <td>0.68</td>\n",
       "      <td>11.5</td>\n",
       "      <td>6</td>\n",
       "    </tr>\n",
       "    <tr>\n",
       "      <td>26</td>\n",
       "      <td>7.6</td>\n",
       "      <td>0.41</td>\n",
       "      <td>0.24</td>\n",
       "      <td>0.080</td>\n",
       "      <td>11.0</td>\n",
       "      <td>0.99620</td>\n",
       "      <td>0.59</td>\n",
       "      <td>9.5</td>\n",
       "      <td>5</td>\n",
       "    </tr>\n",
       "  </tbody>\n",
       "</table>\n",
       "<p>363 rows × 9 columns</p>\n",
       "</div>"
      ],
      "text/plain": [
       "      fixed acidity  volatile acidity  citric acid  chlorides  \\\n",
       "430            10.5              0.24         0.47      0.066   \n",
       "90              7.9              0.52         0.26      0.079   \n",
       "25              6.3              0.39         0.16      0.080   \n",
       "752             7.6              0.54         0.13      0.097   \n",
       "849             6.4              0.63         0.21      0.080   \n",
       "...             ...               ...          ...        ...   \n",
       "694             9.0              0.47         0.31      0.084   \n",
       "1311            6.5              0.51         0.15      0.064   \n",
       "495            10.7              0.35         0.53      0.070   \n",
       "740             8.3              0.76         0.29      0.075   \n",
       "26              7.6              0.41         0.24      0.080   \n",
       "\n",
       "      total sulfur dioxide  density  sulphates  alcohol  quality  \n",
       "430                   24.0  0.99780       0.90     11.0        7  \n",
       "90                   140.0  0.99640       0.54      9.5        5  \n",
       "25                    23.0  0.99550       0.56      9.3        5  \n",
       "752                   66.0  0.99785       0.61      9.4        5  \n",
       "849                   32.0  0.99689       0.66      9.8        5  \n",
       "...                    ...      ...        ...      ...      ...  \n",
       "694                  125.0  0.99840       0.61      9.4        5  \n",
       "1311                  27.0  0.99290       0.59     12.8        6  \n",
       "495                   16.0  0.99720       0.65     11.0        8  \n",
       "740                   16.0  0.99650       0.68     11.5        6  \n",
       "26                    11.0  0.99620       0.59      9.5        5  \n",
       "\n",
       "[363 rows x 9 columns]"
      ]
     },
     "execution_count": 21,
     "metadata": {},
     "output_type": "execute_result"
    }
   ],
   "source": [
    "##All the features do not have a bearing on the quality the the wine--residual sugar,free sulphur dioxide,pH\n",
    "\n",
    "#So we would drop these features from both train & test data\n",
    "\n",
    "colstodrop=['residual sugar','free sulfur dioxide','pH']\n",
    "train.drop(colstodrop,axis=1)\n",
    "test.drop(colstodrop,axis=1)\n",
    "\n",
    "#We can also drop--fixed acidity,chlorides,but we would see later"
   ]
  },
  {
   "cell_type": "code",
   "execution_count": 22,
   "metadata": {
    "scrolled": true
   },
   "outputs": [],
   "source": [
    "#If we look at the max and min of the independent variables there is a huge variation in the max and min values.\n",
    "# This variation would affect the performance of our model.So we would scale these variables\n",
    "\n",
    "\n",
    "from sklearn.preprocessing import StandardScaler\n",
    "scaler=StandardScaler()\n",
    "\n",
    "\n",
    "\n",
    "#Create target variable y and predictor varibales X\n",
    "\n",
    "###train set\n",
    "train_X=train.drop('quality',axis=1)\n",
    "train_y=train['quality']\n",
    "\n",
    "\n",
    "###test set\n",
    "\n",
    "test_X=test.drop('quality',axis=1)\n",
    "test_y=test['quality']\n",
    "\n",
    "\n",
    "#Start with scaling the predictor variables\n",
    "\n",
    "train_X=scaler.fit_transform(train_X)\n",
    "test_X=scaler.fit_transform(test_X)\n",
    "\n"
   ]
  },
  {
   "cell_type": "code",
   "execution_count": 23,
   "metadata": {},
   "outputs": [
    {
     "name": "stdout",
     "output_type": "stream",
     "text": [
      "              precision    recall  f1-score   support\n",
      "\n",
      "           4      0.000     0.000     0.000        12\n",
      "           5      0.671     0.649     0.660       154\n",
      "           6      0.559     0.578     0.569       147\n",
      "           7      0.426     0.435     0.430        46\n",
      "           8      0.000     0.000     0.000         4\n",
      "\n",
      "    accuracy                          0.565       363\n",
      "   macro avg      0.331     0.332     0.332       363\n",
      "weighted avg      0.565     0.565     0.565       363\n",
      "\n"
     ]
    }
   ],
   "source": [
    "#We would first try with decision tree\n",
    "\n",
    "from sklearn.tree import DecisionTreeClassifier\n",
    "\n",
    "tree=DecisionTreeClassifier(random_state=0)\n",
    "tree.fit(train_X,train_y)\n",
    "pred_y=tree.predict(test_X)\n",
    "\n",
    "##Lets pull out the classification report for this\n",
    "\n",
    "\n",
    "from sklearn import metrics\n",
    "from sklearn.metrics import accuracy_score\n",
    "from sklearn.metrics import roc_auc_score\n",
    "\n",
    "print(metrics.classification_report(test_y,pred_y.round(),digits=3))\n",
    "\n",
    "\n",
    "\n"
   ]
  },
  {
   "cell_type": "code",
   "execution_count": 24,
   "metadata": {},
   "outputs": [
    {
     "data": {
      "text/plain": [
       "array([6, 6, 6, 6, 5, 6, 6, 7, 6, 7, 5, 6, 6, 6, 6, 7, 5, 6, 6, 7, 6, 5,\n",
       "       6, 5, 5, 6, 5, 5, 6, 5, 6, 5, 6, 5, 6, 6, 6, 6, 4, 6, 7, 6, 6, 5,\n",
       "       6, 5, 4, 5, 6, 7, 5, 5, 6, 5, 6, 5, 5, 5, 5, 5, 7, 6, 5, 4, 5, 6,\n",
       "       5, 4, 5, 5, 6, 5, 5, 5, 5, 7, 6, 5, 5, 7, 6, 5, 5, 5, 6, 6, 6, 6,\n",
       "       5, 7, 5, 6, 5, 6, 5, 6, 6, 5, 5, 6, 5, 5, 5, 5, 6, 6, 5, 5, 6, 7,\n",
       "       6, 6, 5, 5, 5, 6, 6, 5, 6, 5, 5, 6, 5, 6, 7, 6, 6, 7, 6, 7, 5, 7,\n",
       "       7, 5, 6, 6, 6, 6, 6, 5, 6, 6, 5, 6, 5, 7, 7, 5, 5, 7, 6, 5, 5, 6,\n",
       "       6, 6, 6, 6, 6, 6, 5, 7, 6, 5, 5, 5, 6, 5, 7, 6, 6, 5, 5, 6, 6, 7,\n",
       "       6, 6, 6, 6, 6, 5, 5, 7, 6, 5, 6, 6, 7, 5, 6, 6, 5, 5, 6, 5, 6, 7,\n",
       "       5, 5, 5, 7, 5, 5, 6, 7, 6, 5, 5, 6, 5, 5, 5, 4, 5, 5, 5, 6, 6, 5,\n",
       "       5, 5, 4, 6, 4, 5, 6, 6, 5, 5, 5, 6, 7, 7, 7, 6, 4, 5, 6, 6, 6, 5,\n",
       "       7, 6, 7, 5, 6, 5, 5, 5, 7, 6, 6, 7, 5, 6, 6, 8, 5, 5, 5, 6, 7, 7,\n",
       "       6, 6, 6, 7, 8, 6, 6, 7, 5, 6, 8, 7, 5, 6, 6, 5, 6, 5, 6, 6, 5, 6,\n",
       "       5, 7, 5, 7, 5, 7, 5, 6, 6, 6, 5, 5, 5, 6, 6, 5, 5, 5, 7, 5, 5, 6,\n",
       "       6, 6, 7, 5, 6, 4, 6, 6, 6, 5, 6, 5, 5, 4, 6, 5, 7, 6, 5, 5, 5, 6,\n",
       "       5, 5, 5, 6, 6, 6, 5, 5, 5, 5, 5, 6, 5, 5, 6, 6, 6, 7, 5, 6, 6, 5,\n",
       "       4, 6, 5, 5, 6, 5, 5, 6, 6, 7, 8], dtype=int64)"
      ]
     },
     "execution_count": 24,
     "metadata": {},
     "output_type": "execute_result"
    }
   ],
   "source": [
    "pred_y"
   ]
  },
  {
   "cell_type": "code",
   "execution_count": 41,
   "metadata": {},
   "outputs": [
    {
     "data": {
      "text/plain": [
       "<sklearn.metrics._plot.confusion_matrix.ConfusionMatrixDisplay at 0x1a99bd6e748>"
      ]
     },
     "execution_count": 41,
     "metadata": {},
     "output_type": "execute_result"
    },
    {
     "data": {
      "image/png": "[encoded data removed]",
      "text/plain": [
       "<Figure size 432x288 with 2 Axes>"
      ]
     },
     "metadata": {
      "needs_background": "light"
     },
     "output_type": "display_data"
    }
   ],
   "source": [
    "from sklearn.metrics import plot_confusion_matrix\n",
    "labels=sorted(winedata['quality'].unique().tolist())\n",
    "\n",
    "plot_confusion_matrix(tree,test_X,test_y,display_labels=labels,cmap=plt.cm.Blues)"
   ]
  },
  {
   "cell_type": "code",
   "execution_count": 43,
   "metadata": {},
   "outputs": [
    {
     "name": "stdout",
     "output_type": "stream",
     "text": [
      "cross-validation score with roc_auc_ovr scoring 0.6195116952613269\n",
      "roc_auc_score: 0.5990075010414918\n"
     ]
    }
   ],
   "source": [
    "#Calculate roc_auc_score  with multi-class parameter\n",
    "\n",
    "from sklearn.metrics import roc_auc_score\n",
    "from sklearn.model_selection import cross_val_score\n",
    "\n",
    "###cross validation score using roc_auc_ovr\n",
    "\n",
    "accuracy=cross_val_score(tree,train_X,train_y,scoring='roc_auc_ovr',cv=10)\n",
    "print('cross-validation score with roc_auc_ovr scoring',accuracy.mean())\n",
    "\n",
    "\n",
    "rocaucscore=roc_auc_score(test_y,tree.predict_proba(test_X),multi_class='ovr')\n",
    "print('roc_auc_score:',rocaucscore)\n",
    "\n"
   ]
  },
  {
   "cell_type": "code",
   "execution_count": 47,
   "metadata": {},
   "outputs": [
    {
     "data": {
      "text/plain": [
       "<sklearn.metrics._plot.confusion_matrix.ConfusionMatrixDisplay at 0x1a99bd16f48>"
      ]
     },
     "execution_count": 47,
     "metadata": {},
     "output_type": "execute_result"
    },
    {
     "data": {
      "image/png": "[encoded data removed]",
      "text/plain": [
       "<Figure size 432x288 with 2 Axes>"
      ]
     },
     "metadata": {
      "needs_background": "light"
     },
     "output_type": "display_data"
    }
   ],
   "source": [
    "#Random forest is ensemble learning technique that uses multiple decision trees and then gives a prediction basis the \n",
    "#majority vote\n",
    "\n",
    "from sklearn.ensemble import RandomForestClassifier\n",
    "forest=RandomForestClassifier(n_estimators=100,random_state=42)\n",
    "forest.fit(train_X,train_y)\n",
    "\n",
    "pred_y=forest.predict(test_X)\n",
    "\n",
    "plot_confusion_matrix(forest,test_X,test_y,display_labels=labels,cmap=plt.cm.Blues)\n",
    "\n"
   ]
  },
  {
   "cell_type": "code",
   "execution_count": 50,
   "metadata": {},
   "outputs": [
    {
     "name": "stdout",
     "output_type": "stream",
     "text": [
      "cross_val_score: 0.8237459590940761\n"
     ]
    }
   ],
   "source": [
    "#cross-validation score using auc_roc_ovr(this is multiclass classification...\n",
    "#roc_auc_score is calculated one class against the rest)\n",
    "\n",
    "accuracy=cross_val_score(forest,train_X,train_y,scoring='roc_auc_ovr',cv=10)\n",
    "print('cross_val_score:',accuracy.mean())"
   ]
  },
  {
   "cell_type": "code",
   "execution_count": 52,
   "metadata": {},
   "outputs": [
    {
     "name": "stdout",
     "output_type": "stream",
     "text": [
      "roc_auc_score: 0.8214406488053972\n"
     ]
    }
   ],
   "source": [
    "#roc_auc_score with multi-class parameter\n",
    "\n",
    "forest_rocaucscore=roc_auc_score(test_y,forest.predict_proba(test_X),multi_class='ovr')\n",
    "print('roc_auc_score:',forest_rocaucscore)"
   ]
  },
  {
   "cell_type": "code",
   "execution_count": 53,
   "metadata": {},
   "outputs": [
    {
     "name": "stdout",
     "output_type": "stream",
     "text": [
      "              precision    recall  f1-score   support\n",
      "\n",
      "           4      0.000     0.000     0.000        12\n",
      "           5      0.730     0.773     0.751       154\n",
      "           6      0.627     0.673     0.649       147\n",
      "           7      0.659     0.587     0.621        46\n",
      "           8      1.000     0.250     0.400         4\n",
      "\n",
      "    accuracy                          0.678       363\n",
      "   macro avg      0.603     0.457     0.484       363\n",
      "weighted avg      0.658     0.678     0.664       363\n",
      "\n"
     ]
    },
    {
     "name": "stderr",
     "output_type": "stream",
     "text": [
      "C:\\Users\\gunja\\Anaconda3\\lib\\site-packages\\sklearn\\metrics\\_classification.py:1221: UndefinedMetricWarning: Precision and F-score are ill-defined and being set to 0.0 in labels with no predicted samples. Use `zero_division` parameter to control this behavior.\n",
      "  _warn_prf(average, modifier, msg_start, len(result))\n"
     ]
    }
   ],
   "source": [
    "#Lets now pull out the classification report\n",
    "\n",
    "print(metrics.classification_report(test_y,pred_y.round(),digits=3))"
   ]
  },
  {
   "cell_type": "code",
   "execution_count": 60,
   "metadata": {},
   "outputs": [],
   "source": [
    "#the roc_auc_score and the cross_val_score for random forest looks good.But still the recall of the minority classes is not good\n",
    "#We will increase the recall of the monority classes by oversampling the minority classes.For this we will use the \n",
    "#Smote algorithm\n",
    "\n",
    "#SMOTE(synthetic minority oversampling) algorithm creates synthetic minority class samples to increase the representation \n",
    "#of the minority classes\n",
    "\n",
    "#Import SMOTE module\n",
    "\n",
    "#pip install imblearn\n",
    "\n",
    "from imblearn.over_sampling import SMOTE\n",
    "\n",
    "sm=SMOTE(random_state=42)\n",
    "\n",
    "train_X_res,train_y_res=sm.fit_sample(train_X,train_y.ravel())\n",
    "\n",
    "###Again fit the random forest\n",
    "\n",
    "forest.fit(train_X_res,train_y_res.ravel())\n",
    "\n",
    "\n",
    "pred_y=forest.predict(test_X)\n",
    "\n",
    "\n"
   ]
  },
  {
   "cell_type": "code",
   "execution_count": 63,
   "metadata": {},
   "outputs": [
    {
     "data": {
      "text/plain": [
       "<sklearn.metrics._plot.confusion_matrix.ConfusionMatrixDisplay at 0x1a99cace748>"
      ]
     },
     "execution_count": 63,
     "metadata": {},
     "output_type": "execute_result"
    },
    {
     "data": {
      "image/png": "[encoded data removed]",
      "text/plain": [
       "<Figure size 432x288 with 2 Axes>"
      ]
     },
     "metadata": {
      "needs_background": "light"
     },
     "output_type": "display_data"
    }
   ],
   "source": [
    "plot_confusion_matrix(forest,test_X,test_y,display_labels=labels,cmap=plt.cm.Blues)\n",
    "\n"
   ]
  },
  {
   "cell_type": "code",
   "execution_count": 64,
   "metadata": {},
   "outputs": [
    {
     "name": "stdout",
     "output_type": "stream",
     "text": [
      "              precision    recall  f1-score   support\n",
      "\n",
      "           4      0.000     0.000     0.000        12\n",
      "           5      0.716     0.721     0.718       154\n",
      "           6      0.640     0.544     0.588       147\n",
      "           7      0.517     0.652     0.577        46\n",
      "           8      0.250     0.500     0.333         4\n",
      "\n",
      "    accuracy                          0.614       363\n",
      "   macro avg      0.425     0.483     0.443       363\n",
      "weighted avg      0.631     0.614     0.620       363\n",
      "\n"
     ]
    }
   ],
   "source": [
    "#Classification report\n",
    "\n",
    "print(metrics.classification_report(test_y,pred_y.round(),digits=3))\n",
    "\n"
   ]
  },
  {
   "cell_type": "code",
   "execution_count": 65,
   "metadata": {},
   "outputs": [
    {
     "name": "stdout",
     "output_type": "stream",
     "text": [
      "0.8237459590940761\n"
     ]
    }
   ],
   "source": [
    "#cross val score\n",
    "\n",
    "accuracy=cross_val_score(forest,train_X,train_y,scoring='roc_auc_ovr',cv=10)\n",
    "print(accuracy.mean())"
   ]
  },
  {
   "cell_type": "code",
   "execution_count": 67,
   "metadata": {},
   "outputs": [
    {
     "name": "stdout",
     "output_type": "stream",
     "text": [
      "0.7959312149894526\n"
     ]
    }
   ],
   "source": [
    "#roc_auc_score with multi-class parameter\n",
    "\n",
    "SMOTE_rocaucscore=roc_auc_score(test_y,forest.predict_proba(test_X),multi_class='ovr')\n",
    "\n",
    "print(SMOTE_rocaucscore)"
   ]
  },
  {
   "cell_type": "code",
   "execution_count": null,
   "metadata": {},
   "outputs": [],
   "source": [
    "#Conclusion--Random Forest gave us better results than decision trees ..thouugh the minority classes were not predicted \n",
    "#properly.\n",
    "#Even SMOTE though improved the recall of class--8 a monority class but decreased the roc_auc_score of the model on the whole."
   ]
  },
  {
   "cell_type": "code",
   "execution_count": null,
   "metadata": {},
   "outputs": [],
   "source": []
  }
 ],
 "metadata": {
  "kernelspec": {
   "display_name": "Python 3",
   "language": "python",
   "name": "python3"
  },
  "language_info": {
   "codemirror_mode": {
    "name": "ipython",
    "version": 3
   },
   "file_extension": ".py",
   "mimetype": "text/x-python",
   "name": "python",
   "nbconvert_exporter": "python",
   "pygments_lexer": "ipython3",
   "version": "3.7.4"
  }
 },
 "nbformat": 4,
 "nbformat_minor": 2
}
